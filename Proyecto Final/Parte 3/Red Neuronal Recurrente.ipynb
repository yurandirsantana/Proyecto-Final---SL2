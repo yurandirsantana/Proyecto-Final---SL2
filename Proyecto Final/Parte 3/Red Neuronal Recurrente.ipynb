{
 "cells": [
  {
   "cell_type": "markdown",
   "id": "8eb07140",
   "metadata": {},
   "source": [
    "#  Proyecto - Red Recurrente"
   ]
  },
  {
   "cell_type": "markdown",
   "id": "c986bbe3",
   "metadata": {},
   "source": [
    "Elaborado por: Yurandir Santa María Santana Sandoval - Carné no. 18001546."
   ]
  },
  {
   "cell_type": "markdown",
   "id": "4f85a023",
   "metadata": {},
   "source": [
    "## Objetivo"
   ]
  },
  {
   "cell_type": "markdown",
   "id": "8bb124a6",
   "metadata": {},
   "source": [
    "La tercera parte del proyecto consiste en una red neuronal tipo recurrente, por lo que se ha escogido una base de datos del tipo de cambio del dólar respecto al quetzal, siendo el objetivo del análisis crear un modelo capaz de predecir el tipo de cambio."
   ]
  },
  {
   "cell_type": "markdown",
   "id": "6507a49f",
   "metadata": {},
   "source": [
    "## Librerías"
   ]
  },
  {
   "cell_type": "code",
   "execution_count": 58,
   "id": "f1d11606",
   "metadata": {},
   "outputs": [],
   "source": [
    "import numpy as np\n",
    "import pandas as pd\n",
    "import matplotlib.pyplot as plt\n",
    "\n",
    "from keras.models import Sequential\n",
    "from keras.layers import Dense\n",
    "from keras.layers import LSTM\n",
    "\n",
    "from sklearn.preprocessing import MinMaxScaler\n",
    "from sklearn.metrics import mean_squared_error\n",
    "from math import sqrt"
   ]
  },
  {
   "cell_type": "markdown",
   "id": "cb704bc5",
   "metadata": {},
   "source": [
    "## Código"
   ]
  },
  {
   "cell_type": "code",
   "execution_count": 59,
   "id": "6b5ab3c4",
   "metadata": {},
   "outputs": [],
   "source": [
    "BBDD = pd.read_csv('historico_rango2.csv', encoding='utf-8',index_col='Date',parse_dates=True)"
   ]
  },
  {
   "cell_type": "code",
   "execution_count": 60,
   "id": "53bb7d2b",
   "metadata": {},
   "outputs": [
    {
     "data": {
      "text/html": [
       "<div>\n",
       "<style scoped>\n",
       "    .dataframe tbody tr th:only-of-type {\n",
       "        vertical-align: middle;\n",
       "    }\n",
       "\n",
       "    .dataframe tbody tr th {\n",
       "        vertical-align: top;\n",
       "    }\n",
       "\n",
       "    .dataframe thead th {\n",
       "        text-align: right;\n",
       "    }\n",
       "</style>\n",
       "<table border=\"1\" class=\"dataframe\">\n",
       "  <thead>\n",
       "    <tr style=\"text-align: right;\">\n",
       "      <th></th>\n",
       "      <th>Exchange_Rate</th>\n",
       "    </tr>\n",
       "    <tr>\n",
       "      <th>Date</th>\n",
       "      <th></th>\n",
       "    </tr>\n",
       "  </thead>\n",
       "  <tbody>\n",
       "    <tr>\n",
       "      <th>2018-01-01</th>\n",
       "      <td>7.34477</td>\n",
       "    </tr>\n",
       "    <tr>\n",
       "      <th>2018-01-01</th>\n",
       "      <td>7.34746</td>\n",
       "    </tr>\n",
       "    <tr>\n",
       "      <th>2018-01-01</th>\n",
       "      <td>7.34126</td>\n",
       "    </tr>\n",
       "    <tr>\n",
       "      <th>2018-01-01</th>\n",
       "      <td>7.34148</td>\n",
       "    </tr>\n",
       "    <tr>\n",
       "      <th>2018-01-01</th>\n",
       "      <td>7.34406</td>\n",
       "    </tr>\n",
       "  </tbody>\n",
       "</table>\n",
       "</div>"
      ],
      "text/plain": [
       "            Exchange_Rate\n",
       "Date                     \n",
       "2018-01-01        7.34477\n",
       "2018-01-01        7.34746\n",
       "2018-01-01        7.34126\n",
       "2018-01-01        7.34148\n",
       "2018-01-01        7.34406"
      ]
     },
     "execution_count": 60,
     "metadata": {},
     "output_type": "execute_result"
    }
   ],
   "source": [
    "BBDD.head()"
   ]
  },
  {
   "cell_type": "code",
   "execution_count": 61,
   "id": "0fbb06cf",
   "metadata": {},
   "outputs": [
    {
     "data": {
      "image/png": "[encoded data removed]",
      "text/plain": [
       "<Figure size 1152x720 with 1 Axes>"
      ]
     },
     "metadata": {
      "needs_background": "light"
     },
     "output_type": "display_data"
    }
   ],
   "source": [
    "# Gráfica de Variación en el tiempo\n",
    "\n",
    "plt.figure(figsize=(16,10))\n",
    "\n",
    "plt.plot(BBDD['Exchange_Rate'], label='Variación', c = 'Crimson')\n",
    "\n",
    "plt.xlabel('Fechas')\n",
    "plt.ylabel('Tasa de Cambio')\n",
    "plt.legend();"
   ]
  },
  {
   "cell_type": "code",
   "execution_count": 62,
   "id": "3f450288",
   "metadata": {},
   "outputs": [
    {
     "data": {
      "text/plain": [
       "array([[0.28264046],\n",
       "       [0.28264046],\n",
       "       [0.3103981 ],\n",
       "       [0.2926731 ],\n",
       "       [0.29226494],\n",
       "       [0.29226494]], dtype=float32)"
      ]
     },
     "execution_count": 62,
     "metadata": {},
     "output_type": "execute_result"
    }
   ],
   "source": [
    "# Configuraciónde la Base de Datos\n",
    "\n",
    "np.random.seed(8)\n",
    "\n",
    "DataSet = BBDD['Exchange_Rate'].values.astype(np.float32)\n",
    "DataSet = np.reshape(dataset, (-1, 1))\n",
    "DataSet[-6:]"
   ]
  },
  {
   "cell_type": "code",
   "execution_count": 63,
   "id": "3e77f00c",
   "metadata": {},
   "outputs": [
    {
     "data": {
      "text/plain": [
       "array([[0.28264046],\n",
       "       [0.28264046],\n",
       "       [0.3103981 ],\n",
       "       [0.2926731 ],\n",
       "       [0.29226494],\n",
       "       [0.29226494]], dtype=float32)"
      ]
     },
     "execution_count": 63,
     "metadata": {},
     "output_type": "execute_result"
    }
   ],
   "source": [
    "# Normalización\n",
    "\n",
    "scaler = MinMaxScaler(feature_range=(-1, 1))\n",
    "DataSet = scaler.fit_transform(DataSet)\n",
    "DataSet[-6:]"
   ]
  },
  {
   "cell_type": "code",
   "execution_count": 64,
   "id": "179602b1",
   "metadata": {},
   "outputs": [
    {
     "data": {
      "text/plain": [
       "(1168, 293)"
      ]
     },
     "execution_count": 64,
     "metadata": {},
     "output_type": "execute_result"
    }
   ],
   "source": [
    "# Split de Entrenamiento y Test\n",
    "\n",
    "train_size = int(len(DataSet) * 0.8)\n",
    "test_size = len(DataSet) - train_size\n",
    "train, test = DataSet[0:train_size,:], DataSet[train_size:len(dataset),:]\n",
    "\n",
    "len(train),len(test)"
   ]
  },
  {
   "cell_type": "code",
   "execution_count": 65,
   "id": "61299681",
   "metadata": {},
   "outputs": [],
   "source": [
    "# Función de Dataset y Secuencias \n",
    "\n",
    "def NewDDBB(DDBB, look_back=1):\n",
    "    dataX, dataY = [], []\n",
    "    for i in range(len(DDBB)-look_back):\n",
    "        a = DDBB[i:(i+look_back), 0]\n",
    "        dataX.append(a)\n",
    "        dataY.append(DDBB[i + look_back, 0])\n",
    "    return np.array(dataX), np.array(dataY)"
   ]
  },
  {
   "cell_type": "code",
   "execution_count": 66,
   "id": "d21c1ac2",
   "metadata": {},
   "outputs": [],
   "source": [
    "lookback = 6\n",
    "\n",
    "trainX, trainY = NewDDBB(train, lookback)\n",
    "testX, testY = NewDDBB(test, lookback)"
   ]
  },
  {
   "cell_type": "code",
   "execution_count": 67,
   "id": "c4319e13",
   "metadata": {},
   "outputs": [
    {
     "data": {
      "text/plain": [
       "((1162, 1), (287, 1))"
      ]
     },
     "execution_count": 67,
     "metadata": {},
     "output_type": "execute_result"
    }
   ],
   "source": [
    "trainY = trainY.reshape(-1, 1)\n",
    "testY = testY.reshape(-1, 1)\n",
    "\n",
    "trainY.shape, testY.shape"
   ]
  },
  {
   "cell_type": "code",
   "execution_count": 68,
   "id": "a4541e97",
   "metadata": {},
   "outputs": [],
   "source": [
    "# Reshape\n",
    "\n",
    "trainX = trainX.reshape((trainX.shape[0], trainX.shape[1], 1))\n",
    "testX = testX.reshape((testX.shape[0], testX.shape[1], 1))"
   ]
  },
  {
   "cell_type": "code",
   "execution_count": 69,
   "id": "64f62ebc",
   "metadata": {},
   "outputs": [
    {
     "data": {
      "text/plain": [
       "((1162, 6, 1), (287, 6, 1))"
      ]
     },
     "execution_count": 69,
     "metadata": {},
     "output_type": "execute_result"
    }
   ],
   "source": [
    "trainX.shape, testX.shape"
   ]
  },
  {
   "cell_type": "code",
   "execution_count": 70,
   "id": "5b749859",
   "metadata": {},
   "outputs": [
    {
     "name": "stdout",
     "output_type": "stream",
     "text": [
      "Model: \"sequential_2\"\n",
      "_________________________________________________________________\n",
      " Layer (type)                Output Shape              Param #   \n",
      "=================================================================\n",
      " lstm_2 (LSTM)               (None, 6)                 192       \n",
      "                                                                 \n",
      " dense_2 (Dense)             (None, 1)                 7         \n",
      "                                                                 \n",
      "=================================================================\n",
      "Total params: 199\n",
      "Trainable params: 199\n",
      "Non-trainable params: 0\n",
      "_________________________________________________________________\n"
     ]
    }
   ],
   "source": [
    "model = Sequential()\n",
    "\n",
    "model.add(LSTM(units=6, input_shape=(lookback, 1), return_sequences=False))\n",
    "model.add(Dense(1))\n",
    "model.summary()"
   ]
  },
  {
   "cell_type": "code",
   "execution_count": 71,
   "id": "6ef7218c",
   "metadata": {},
   "outputs": [
    {
     "name": "stdout",
     "output_type": "stream",
     "text": [
      "Epoch 1/50\n",
      "1162/1162 [==============================] - 5s 3ms/step - loss: 0.0140\n",
      "Epoch 2/50\n",
      "1162/1162 [==============================] - 3s 3ms/step - loss: 0.0019\n",
      "Epoch 3/50\n",
      "1162/1162 [==============================] - 3s 2ms/step - loss: 0.0017\n",
      "Epoch 4/50\n",
      "1162/1162 [==============================] - 3s 3ms/step - loss: 0.0016\n",
      "Epoch 5/50\n",
      "1162/1162 [==============================] - 3s 3ms/step - loss: 0.0014\n",
      "Epoch 6/50\n",
      "1162/1162 [==============================] - 3s 2ms/step - loss: 0.0013\n",
      "Epoch 7/50\n",
      "1162/1162 [==============================] - 3s 3ms/step - loss: 0.0012\n",
      "Epoch 8/50\n",
      "1162/1162 [==============================] - 3s 3ms/step - loss: 0.0010\n",
      "Epoch 9/50\n",
      "1162/1162 [==============================] - 3s 3ms/step - loss: 9.9963e-04\n",
      "Epoch 10/50\n",
      "1162/1162 [==============================] - 3s 2ms/step - loss: 9.8004e-04\n",
      "Epoch 11/50\n",
      "1162/1162 [==============================] - 3s 3ms/step - loss: 9.3137e-04\n",
      "Epoch 12/50\n",
      "1162/1162 [==============================] - 3s 3ms/step - loss: 9.2992e-04\n",
      "Epoch 13/50\n",
      "1162/1162 [==============================] - 3s 3ms/step - loss: 9.0530e-04\n",
      "Epoch 14/50\n",
      "1162/1162 [==============================] - 3s 3ms/step - loss: 9.0719e-04\n",
      "Epoch 15/50\n",
      "1162/1162 [==============================] - 3s 3ms/step - loss: 8.5719e-04\n",
      "Epoch 16/50\n",
      "1162/1162 [==============================] - 3s 3ms/step - loss: 8.5439e-04\n",
      "Epoch 17/50\n",
      "1162/1162 [==============================] - 3s 3ms/step - loss: 8.3865e-04\n",
      "Epoch 18/50\n",
      "1162/1162 [==============================] - 3s 3ms/step - loss: 8.3383e-04\n",
      "Epoch 19/50\n",
      "1162/1162 [==============================] - 3s 2ms/step - loss: 8.0983e-04\n",
      "Epoch 20/50\n",
      "1162/1162 [==============================] - 3s 3ms/step - loss: 8.2083e-04\n",
      "Epoch 21/50\n",
      "1162/1162 [==============================] - 3s 3ms/step - loss: 8.0199e-04\n",
      "Epoch 22/50\n",
      "1162/1162 [==============================] - 3s 3ms/step - loss: 7.8029e-04\n",
      "Epoch 23/50\n",
      "1162/1162 [==============================] - 3s 3ms/step - loss: 7.9842e-04\n",
      "Epoch 24/50\n",
      "1162/1162 [==============================] - 3s 3ms/step - loss: 7.6290e-04\n",
      "Epoch 25/50\n",
      "1162/1162 [==============================] - 3s 3ms/step - loss: 7.5019e-04\n",
      "Epoch 26/50\n",
      "1162/1162 [==============================] - 4s 4ms/step - loss: 7.6851e-04\n",
      "Epoch 27/50\n",
      "1162/1162 [==============================] - 5s 4ms/step - loss: 7.2551e-04\n",
      "Epoch 28/50\n",
      "1162/1162 [==============================] - 4s 3ms/step - loss: 7.3570e-04\n",
      "Epoch 29/50\n",
      "1162/1162 [==============================] - 3s 3ms/step - loss: 7.2375e-04\n",
      "Epoch 30/50\n",
      "1162/1162 [==============================] - 3s 3ms/step - loss: 7.3898e-04\n",
      "Epoch 31/50\n",
      "1162/1162 [==============================] - 4s 3ms/step - loss: 6.9891e-04\n",
      "Epoch 32/50\n",
      "1162/1162 [==============================] - 3s 3ms/step - loss: 6.9950e-04\n",
      "Epoch 33/50\n",
      "1162/1162 [==============================] - 3s 3ms/step - loss: 6.9112e-04\n",
      "Epoch 34/50\n",
      "1162/1162 [==============================] - 3s 3ms/step - loss: 6.9179e-04\n",
      "Epoch 35/50\n",
      "1162/1162 [==============================] - 3s 3ms/step - loss: 6.9593e-04\n",
      "Epoch 36/50\n",
      "1162/1162 [==============================] - 3s 3ms/step - loss: 6.7170e-04\n",
      "Epoch 37/50\n",
      "1162/1162 [==============================] - 3s 3ms/step - loss: 6.8244e-04\n",
      "Epoch 38/50\n",
      "1162/1162 [==============================] - 3s 3ms/step - loss: 6.6058e-04\n",
      "Epoch 39/50\n",
      "1162/1162 [==============================] - 4s 3ms/step - loss: 6.6573e-04\n",
      "Epoch 40/50\n",
      "1162/1162 [==============================] - 5s 4ms/step - loss: 6.5770e-04\n",
      "Epoch 41/50\n",
      "1162/1162 [==============================] - 4s 3ms/step - loss: 6.5508e-04\n",
      "Epoch 42/50\n",
      "1162/1162 [==============================] - 4s 3ms/step - loss: 6.3853e-04\n",
      "Epoch 43/50\n",
      "1162/1162 [==============================] - 3s 3ms/step - loss: 6.5546e-04\n",
      "Epoch 44/50\n",
      "1162/1162 [==============================] - 3s 3ms/step - loss: 6.3568e-04\n",
      "Epoch 45/50\n",
      "1162/1162 [==============================] - 3s 2ms/step - loss: 6.2636e-04\n",
      "Epoch 46/50\n",
      "1162/1162 [==============================] - 3s 2ms/step - loss: 6.1202e-04\n",
      "Epoch 47/50\n",
      "1162/1162 [==============================] - 3s 2ms/step - loss: 6.1833e-04\n",
      "Epoch 48/50\n",
      "1162/1162 [==============================] - 3s 2ms/step - loss: 6.1050e-04\n",
      "Epoch 49/50\n",
      "1162/1162 [==============================] - 3s 2ms/step - loss: 6.0142e-04\n",
      "Epoch 50/50\n",
      "1162/1162 [==============================] - 3s 3ms/step - loss: 6.0592e-04\n"
     ]
    }
   ],
   "source": [
    "model.compile(loss='mean_squared_error', optimizer='adam')\n",
    "history = model.fit(trainX, trainY, epochs=50, batch_size=1, verbose=1)"
   ]
  },
  {
   "cell_type": "code",
   "execution_count": 72,
   "id": "83cb765d",
   "metadata": {},
   "outputs": [
    {
     "data": {
      "image/png": "[encoded data removed]",
      "text/plain": [
       "<Figure size 1152x720 with 1 Axes>"
      ]
     },
     "metadata": {
      "needs_background": "light"
     },
     "output_type": "display_data"
    }
   ],
   "source": [
    "# Función de costo\n",
    "\n",
    "plt.figure(figsize=(16,10))\n",
    "plt.plot(history.history['loss'], label=\"Training\")\n",
    "plt.xlabel(\"Número de epoch\")\n",
    "plt.ylabel(\"Costo\")\n",
    "plt.legend();"
   ]
  },
  {
   "cell_type": "code",
   "execution_count": 73,
   "id": "d81e1159",
   "metadata": {},
   "outputs": [
    {
     "name": "stdout",
     "output_type": "stream",
     "text": [
      "37/37 [==============================] - 1s 2ms/step\n",
      "9/9 [==============================] - 0s 2ms/step\n",
      "Evaluación: 0.01 RMSE\n"
     ]
    }
   ],
   "source": [
    "# Predicciones\n",
    "\n",
    "trainPredict = model.predict(trainX)\n",
    "testPredict = model.predict(testX)\n",
    "\n",
    "# Inversión\n",
    "\n",
    "trainPredict = scaler.inverse_transform(trainPredict)\n",
    "trainY = scaler.inverse_transform(trainY)\n",
    "testPredict = scaler.inverse_transform(testPredict)\n",
    "testY = scaler.inverse_transform(testY)\n",
    "\n",
    "# Evaluación del Método\n",
    "\n",
    "Resultado = np.sqrt(mean_squared_error(testY[:, 0], testPredict[:,0]))\n",
    "print('Evaluación: %.2f RMSE' % (Resultado))"
   ]
  },
  {
   "cell_type": "code",
   "execution_count": 74,
   "id": "499d0e07",
   "metadata": {},
   "outputs": [
    {
     "data": {
      "image/png": "[encoded data removed]",
      "text/plain": [
       "<Figure size 1152x720 with 1 Axes>"
      ]
     },
     "metadata": {
      "needs_background": "light"
     },
     "output_type": "display_data"
    }
   ],
   "source": [
    "trainPredictPlot = np.empty_like(dataset)\n",
    "trainPredictPlot[:, :] = np.nan\n",
    "trainPredictPlot[LOOK_BACK:len(trainPredict)+LOOK_BACK, :] = trainPredict\n",
    "\n",
    "testPredictPlot = np.empty_like(dataset)\n",
    "testPredictPlot[:, :] = np.nan\n",
    "testPredictPlot[len(trainPredict)+(LOOK_BACK*2) : len(dataset), :] = testPredict\n",
    "\n",
    "plt.figure(figsize=(16,10))\n",
    "plt.plot(scaler.inverse_transform(dataset), label=\"Rate Exchange\")\n",
    "plt.plot(trainPredictPlot, label=\"Pronóstico de Entrenamiento\")\n",
    "plt.plot(testPredictPlot, label=\"Pronóstico de Test\")\n",
    "\n",
    "plt.xlabel('Días Transcurridos')\n",
    "plt.ylabel('Tasa de Cambio')\n",
    "plt.legend();\n",
    "plt.show();"
   ]
  },
  {
   "cell_type": "markdown",
   "id": "7bf02dc7",
   "metadata": {},
   "source": [
    "## Análisis y Conclusiones"
   ]
  },
  {
   "cell_type": "markdown",
   "id": "24343bc8",
   "metadata": {},
   "source": [
    "Utilizando los últimos seis valores de la base de datos se ha pronosticado el tipo de cambio de dólar estaunidense a quetzal. Los resultados obtenidos y que se pueden visualizar a través de las gráficas, cálculos e índices de error demuestran la efectividad del método de Red Neuronal Recurrente que se ha implementado.\n",
    "\n",
    "Es importante considerar que las particularidades del dataset, y la linealidad y estabilidad de los datos han permitido obtener resultados que exceden el nivel de aceptabilidad en la estimación, por lo que se puede identificar la importancia de un pre-procesamiento de datos, pero también del factor externo de la naturaleza de los datos que se están evaluando."
   ]
  }
 ],
 "metadata": {
  "kernelspec": {
   "display_name": "Python 3 (ipykernel)",
   "language": "python",
   "name": "python3"
  },
  "language_info": {
   "codemirror_mode": {
    "name": "ipython",
    "version": 3
   },
   "file_extension": ".py",
   "mimetype": "text/x-python",
   "name": "python",
   "nbconvert_exporter": "python",
   "pygments_lexer": "ipython3",
   "version": "3.8.12"
  }
 },
 "nbformat": 4,
 "nbformat_minor": 5
}
